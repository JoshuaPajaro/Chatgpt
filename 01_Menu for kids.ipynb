{
 "cells": [
  {
   "cell_type": "code",
   "execution_count": 2,
   "id": "f7126e61",
   "metadata": {},
   "outputs": [
    {
     "name": "stdout",
     "output_type": "stream",
     "text": [
      "Collecting fpdf\n",
      "  Downloading fpdf-1.7.2.tar.gz (39 kB)\n",
      "  Preparing metadata (setup.py): started\n",
      "  Preparing metadata (setup.py): finished with status 'done'\n",
      "Building wheels for collected packages: fpdf\n",
      "  Building wheel for fpdf (setup.py): started\n",
      "  Building wheel for fpdf (setup.py): finished with status 'done'\n",
      "  Created wheel for fpdf: filename=fpdf-1.7.2-py2.py3-none-any.whl size=40713 sha256=e607f4ba922464953a9abadf14eed30c898b49b401d7be26ebb72ced55f84d6f\n",
      "  Stored in directory: c:\\users\\advan\\appdata\\local\\pip\\cache\\wheels\\bc\\6c\\e7\\c239668efef980927985e629d58674079552a9de5ec3aebfd8\n",
      "Successfully built fpdf\n",
      "Installing collected packages: fpdf\n",
      "Successfully installed fpdf-1.7.2\n"
     ]
    }
   ],
   "source": [
    "!pip install fpdf\n"
   ]
  },
  {
   "cell_type": "code",
   "execution_count": 7,
   "id": "696a2b03",
   "metadata": {},
   "outputs": [
    {
     "data": {
      "text/plain": [
       "''"
      ]
     },
     "execution_count": 7,
     "metadata": {},
     "output_type": "execute_result"
    }
   ],
   "source": [
    "import pandas as pd\n",
    "from fpdf import FPDF\n",
    "\n",
    "# Define el menú para cada día de la semana\n",
    "menu = {\n",
    "    'Lunes': ['Puré de calabaza', 'Pescado a la plancha', 'Arroz blanco', 'Plátano'],\n",
    "    'Martes': ['Ensalada de tomate', 'Pollo a la plancha', 'Puré de patata', 'Natillas'],\n",
    "    'Miércoles': ['Guisantes con jamón', 'Huevo frito', 'Pan integral', 'Fresas'],\n",
    "    'Jueves': ['Puré de zanahoria', 'Lomo a la plancha', 'Patatas fritas', 'Yogur'],\n",
    "    'Viernes': ['Ensalada de lechuga', 'Tortilla de patata', 'Pan blanco', 'Melocotón'],\n",
    "    'Sábado': ['Puré de guisantes', 'Salchichas a la plancha', 'Arroz con tomate', 'Piña'],\n",
    "    'Domingo': ['Judías con jamón', 'Merluza al horno', 'Puré de calabacín', 'Naranja']\n",
    "}\n",
    "\n",
    "# Crea un dataframe a partir del menú\n",
    "df = pd.DataFrame(menu)\n",
    "\n",
    "# Transpone el dataframe para que las columnas se conviertan en filas\n",
    "df = df.T\n",
    "\n",
    "# Crea una tabla para el menú\n",
    "class PDF(FPDF):\n",
    "    def table(self, data):\n",
    "        # Crea las cabeceras\n",
    "        self.set_font('Arial', 'B', 14)\n",
    "        for col in data.columns:\n",
    "            self.cell(30, 8, str(col), 1)\n",
    "        self.ln()\n",
    "        # Crea las filas\n",
    "        self.set_font('Arial', '', 8)\n",
    "        for row in data.values:\n",
    "            for item in row:\n",
    "                self.cell(30, 8, str(item), 1)\n",
    "            self.ln()\n",
    "\n",
    "\n",
    "pdf = PDF()\n",
    "pdf.add_page()\n",
    "pdf.set_font('Arial', 'B', 20)\n",
    "pdf.cell(40, 10, 'Menú Semanal', 0, 1, 'C')\n",
    "pdf.ln()\n",
    "# Crea una tabla para cada día de la semana\n",
    "for day in df.index:\n",
    "    pdf.set_font('Arial', 'B', 14)\n",
    "    pdf.cell(40, 10, day, 0, 1, 'C')\n",
    "    pdf.ln()\n",
    "    pdf.table(df.loc[[day]])\n",
    "    pdf.ln()\n",
    "\n",
    "pdf.output('Menu_for_kids.pdf', 'F')\n"
   ]
  },
  {
   "cell_type": "code",
   "execution_count": null,
   "id": "e8a80a84",
   "metadata": {},
   "outputs": [],
   "source": []
  }
 ],
 "metadata": {
  "kernelspec": {
   "display_name": "Python 3 (ipykernel)",
   "language": "python",
   "name": "python3"
  },
  "language_info": {
   "codemirror_mode": {
    "name": "ipython",
    "version": 3
   },
   "file_extension": ".py",
   "mimetype": "text/x-python",
   "name": "python",
   "nbconvert_exporter": "python",
   "pygments_lexer": "ipython3",
   "version": "3.10.9"
  }
 },
 "nbformat": 4,
 "nbformat_minor": 5
}
